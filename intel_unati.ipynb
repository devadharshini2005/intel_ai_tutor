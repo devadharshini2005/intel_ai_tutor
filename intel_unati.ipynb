{
  "nbformat": 4,
  "nbformat_minor": 0,
  "metadata": {
    "colab": {
      "provenance": [],
      "authorship_tag": "ABX9TyNDJ6GCjRN0Z+9srvIUoqcX",
      "include_colab_link": true
    },
    "kernelspec": {
      "name": "python3",
      "display_name": "Python 3"
    },
    "language_info": {
      "name": "python"
    }
  },
  "cells": [
    {
      "cell_type": "markdown",
      "metadata": {
        "id": "view-in-github",
        "colab_type": "text"
      },
      "source": [
        "<a href=\"https://colab.research.google.com/github/devadharshini2005/intel_ai_tutor/blob/main/intel_unati.ipynb\" target=\"_parent\"><img src=\"https://colab.research.google.com/assets/colab-badge.svg\" alt=\"Open In Colab\"/></a>"
      ]
    },
    {
      "cell_type": "code",
      "execution_count": null,
      "metadata": {
        "colab": {
          "base_uri": "https://localhost:8080/"
        },
        "id": "dF1fwhDVaran",
        "outputId": "c39e7913-d31e-4b6f-d903-26a2beb22e86"
      },
      "outputs": [
        {
          "output_type": "stream",
          "name": "stdout",
          "text": [
            "✅ Model trained & saved successfully!\n"
          ]
        }
      ],
      "source": [
        "import pandas as pd\n",
        "import numpy as np\n",
        "import joblib\n",
        "from sklearn.ensemble import RandomForestRegressor\n",
        "from sklearn.model_selection import train_test_split\n",
        "from sklearn.preprocessing import LabelEncoder\n",
        "\n",
        "# ✅ Step 1: Generate Synthetic Student Data\n",
        "np.random.seed(42)\n",
        "num_samples = 1000\n",
        "\n",
        "data = {\n",
        "    \"Name\": [f\"Student_{i}\" for i in range(num_samples)],\n",
        "    \"Age\": np.random.randint(10, 18, num_samples),\n",
        "    \"Gender\": np.random.choice([\"Male\", \"Female\"], num_samples),\n",
        "    \"Country\": np.random.choice([\"India\", \"USA\", \"UK\"], num_samples),\n",
        "    \"State\": np.random.choice([\"State1\", \"State2\", \"State3\"], num_samples),\n",
        "    \"City\": np.random.choice([\"City1\", \"City2\", \"City3\"], num_samples),\n",
        "    \"Parent_Occupation\": np.random.choice([\"Engineer\", \"Doctor\", \"Teacher\"], num_samples),\n",
        "    \"Earning_Class\": np.random.choice([\"Low\", \"Middle\", \"High\"], num_samples),\n",
        "    \"Student_Level\": np.random.choice([\"Beginner\", \"Intermediate\", \"Advanced\"], num_samples),\n",
        "    \"Course_Level\": np.random.choice([\"Basic\", \"Intermediate\", \"Advanced\"], num_samples),\n",
        "    \"Course_Name\": np.random.choice([\"Math\", \"Science\", \"English\"], num_samples),\n",
        "    \"Study_Hours\": np.random.uniform(0.5, 6, num_samples),\n",
        "    \"Material_Name\": np.random.choice([\"Book1\", \"Book2\", \"Video1\"], num_samples),\n",
        "    \"Material_Level\": np.random.choice([\"Easy\", \"Medium\", \"Hard\"], num_samples),\n",
        "    \"IQ_Score\": np.random.randint(80, 140, num_samples),\n",
        "    \"Assessment_Score\": np.random.randint(40, 100, num_samples),\n",
        "}\n",
        "\n",
        "df = pd.DataFrame(data)\n",
        "\n",
        "# ✅ Step 2: Encode Categorical Features\n",
        "categorical_cols = [\"Gender\", \"Country\", \"State\", \"City\", \"Parent_Occupation\",\n",
        "                    \"Earning_Class\", \"Student_Level\", \"Course_Level\",\n",
        "                    \"Course_Name\", \"Material_Name\", \"Material_Level\"]\n",
        "\n",
        "encoders = {col: LabelEncoder() for col in categorical_cols}\n",
        "\n",
        "for col in categorical_cols:\n",
        "    df[col] = encoders[col].fit_transform(df[col])\n",
        "\n",
        "# ✅ Step 3: Prepare Training Data\n",
        "X = df.drop(columns=[\"Name\", \"Assessment_Score\"])  # Exclude Name & Target\n",
        "y = df[\"Assessment_Score\"]\n",
        "\n",
        "X_train, X_test, y_train, y_test = train_test_split(X, y, test_size=0.2, random_state=42)\n",
        "\n",
        "# ✅ Step 4: Train ML Model\n",
        "model = RandomForestRegressor(n_estimators=100, random_state=42)\n",
        "model.fit(X_train, y_train)\n",
        "\n",
        "# ✅ Step 5: Save Model & Encoders\n",
        "joblib.dump(model, \"pretrained_assessment_model.pkl\")\n",
        "joblib.dump(encoders, \"encoders.pkl\")\n",
        "print(\"✅ Model trained & saved successfully!\")\n"
      ]
    },
    {
      "cell_type": "code",
      "source": [
        "def predict_assessment(student_data):\n",
        "    # Load Model & Encoders\n",
        "    model = joblib.load(\"pretrained_assessment_model.pkl\")\n",
        "    encoders = joblib.load(\"encoders.pkl\")\n",
        "\n",
        "    # Convert Input Data into DataFrame\n",
        "    df = pd.DataFrame([student_data])\n",
        "\n",
        "    # Encode Categorical Values Safely (Handle Unseen Labels)\n",
        "    for col in encoders:\n",
        "        if df[col][0] in encoders[col].classes_:\n",
        "            df[col] = encoders[col].transform([df[col][0]])  # Convert existing string to numeric\n",
        "        else:\n",
        "            df[col] = -1  # Assign new values as -1 (unknown category)\n",
        "\n",
        "    # Ensure Column Order Matches Training Data\n",
        "    df = df[X.columns]  # Keep only relevant features\n",
        "\n",
        "    # Predict Assessment Score\n",
        "    prediction = model.predict(df)[0]\n",
        "\n",
        "    return round(prediction, 2)\n",
        "\n",
        "\n",
        "# ✅ Step 6: Track Student Progress\n",
        "def update_progress():\n",
        "    student_data = {\n",
        "        \"Age\": int(input(\"Enter Age: \")),\n",
        "        \"Gender\": input(\"Enter Gender (Male/Female): \"),\n",
        "        \"Country\": input(\"Enter Country: \"),\n",
        "        \"State\": input(\"Enter State: \"),\n",
        "        \"City\": input(\"Enter City: \"),\n",
        "        \"Parent_Occupation\": input(\"Enter Parent Occupation: \"),\n",
        "        \"Earning_Class\": input(\"Enter Earning Class (Low/Middle/High): \"),\n",
        "        \"Student_Level\": input(\"Enter Student Level (Beginner/Intermediate/Advanced): \"),\n",
        "        \"Course_Level\": input(\"Enter Course Level (Basic/Intermediate/Advanced): \"),\n",
        "        \"Course_Name\": input(\"Enter Course Name (Math/Science/English): \"),\n",
        "        \"Study_Hours\": float(input(\"Enter Study Hours per day: \")),\n",
        "        \"Material_Name\": input(\"Enter Material Name: \"),\n",
        "        \"Material_Level\": input(\"Enter Material Level (Easy/Medium/Hard): \"),\n",
        "        \"IQ_Score\": int(input(\"Enter IQ Score: \")),\n",
        "    }\n",
        "\n",
        "    predicted_score = predict_assessment(student_data)\n",
        "\n",
        "    # Determine Promotion or Demotion\n",
        "    if predicted_score >= 60:\n",
        "        print(f\"🎉 Student is PROMOTED! Predicted Score: {predicted_score}\")\n",
        "    else:\n",
        "        print(f\"📉 Student is DEMOTED. Predicted Score: {predicted_score}\")\n",
        "\n",
        "update_progress()\n"
      ],
      "metadata": {
        "colab": {
          "base_uri": "https://localhost:8080/"
        },
        "id": "eQUR85Vva1mq",
        "outputId": "c15c037f-cc9b-476d-d2a3-5b4616f0fb59"
      },
      "execution_count": null,
      "outputs": [
        {
          "output_type": "stream",
          "name": "stdout",
          "text": [
            "Enter Age: 9\n",
            "Enter Gender (Male/Female): Female\n",
            "Enter Country: India\n",
            "Enter State: Tamil Nadu\n",
            "Enter City: Pudukkottai\n",
            "Enter Parent Occupation: Employee\n",
            "Enter Earning Class (Low/Middle/High): Middle\n",
            "Enter Student Level (Beginner/Intermediate/Advanced): Intermediate\n",
            "Enter Course Level (Basic/Intermediate/Advanced): Intermediate\n",
            "Enter Course Name (Math/Science/English): Science\n",
            "Enter Study Hours per day: 3\n",
            "Enter Material Name: Book\n",
            "Enter Material Level (Easy/Medium/Hard): Medium\n",
            "Enter IQ Score: 90\n",
            "🎉 Student is PROMOTED! Predicted Score: 66.03\n"
          ]
        }
      ]
    },
    {
      "cell_type": "code",
      "source": [
        "import pandas as pd\n",
        "import numpy as np\n",
        "import joblib\n",
        "\n",
        "# Load the trained model\n",
        "model = joblib.load(\"pretrained_assessment_model.pkl\")\n",
        "\n",
        "# List of features used for training\n",
        "X = df.drop(columns=[\"Assessment_Score\"])\n",
        "\n",
        "def predict_assessment(student_data):\n",
        "    \"\"\"\n",
        "    Predict assessment score and decide if the student is promoted or demoted.\n",
        "    \"\"\"\n",
        "\n",
        "    # Convert student_data into a DataFrame\n",
        "    df = pd.DataFrame([student_data])\n",
        "\n",
        "    # List of expected features (same as during training)\n",
        "    expected_features = [\n",
        "        \"Age\", \"Student_Level\", \"Course_Level\", \"Study_Hours\", \"IQ_Score\",\n",
        "        \"Gender\", \"Country\", \"State\", \"City\", \"Parent_Occupation\", \"Earning_Class\",\n",
        "        \"Material_Level\", \"Course_Name\", \"Material_Name\"\n",
        "    ]\n",
        "\n",
        "    # Ensure all missing features are added with default values\n",
        "    for feature in expected_features:\n",
        "        if feature not in df.columns:\n",
        "            df[feature] = \"Unknown\"  # Assign default value for missing categorical columns\n",
        "\n",
        "    # Encoding categorical values\n",
        "    categorical_features = [\"Student_Level\", \"Course_Level\", \"Material_Level\",\n",
        "                            \"Course_Name\", \"Material_Name\", \"Gender\", \"Country\", \"State\"]\n",
        "\n",
        "    for col in categorical_features:\n",
        "        df[col] = df[col].astype(\"category\").cat.codes\n",
        "\n",
        "    # Predict the assessment score\n",
        "    predicted_score = model.predict(df)[0]\n",
        "\n",
        "    # Promotion & Demotion Logic\n",
        "    if predicted_score >= 60:\n",
        "        decision = \"Promoted to next level 🚀\"\n",
        "        student_data[\"Student_Level\"] += 1\n",
        "    elif predicted_score < 40:\n",
        "        decision = \"Demoted to previous level 🔻\"\n",
        "        student_data[\"Student_Level\"] -= 1\n",
        "    else:\n",
        "        decision = \"Stay in the current level 📍\"\n",
        "\n",
        "    return {\n",
        "        \"Predicted Score\": round(predicted_score, 2),\n",
        "        \"Decision\": decision,\n",
        "        \"Updated Student Level\": student_data[\"Student_Level\"]\n",
        "    }\n",
        "\n",
        "# Example student input\n",
        "student_input = {\n",
        "    \"Age\": 15,\n",
        "    \"Student_Level\": 1,  # Intermediate\n",
        "    \"Course_Level\": 1,  # Intermediate\n",
        "    \"Study_Hours\": 3.5,\n",
        "    \"IQ_Score\": 120,\n",
        "    \"Country\": \"India\",\n",
        "    \"State\": \"TamilNadu\",\n",
        "    \"City\": \"Chennai\",\n",
        "    \"Parent_Occupation\": \"Engineer\",\n",
        "    \"Earning_Class\": \"Middle\",\n",
        "    \"Material_Level\": 1,  # Intermediate Material\n",
        "    \"Course_Name\": \"Mathematics\",\n",
        "    \"Material_Name\": \"Algebra\"\n",
        "}\n",
        "\n",
        "# Run Prediction\n",
        "result = predict_assessment(student_input)\n",
        "print(result)\n"
      ],
      "metadata": {
        "colab": {
          "base_uri": "https://localhost:8080/",
          "height": 356
        },
        "id": "xXl7vi07a-oS",
        "outputId": "7eb4a2ac-4911-4a52-8f3f-c6a591d47609"
      },
      "execution_count": null,
      "outputs": [
        {
          "output_type": "error",
          "ename": "ValueError",
          "evalue": "The feature names should match those that were passed during fit.\nFeature names must be in the same order as they were in fit.\n",
          "traceback": [
            "\u001b[0;31m---------------------------------------------------------------------------\u001b[0m",
            "\u001b[0;31mValueError\u001b[0m                                Traceback (most recent call last)",
            "\u001b[0;32m<ipython-input-6-0d548a26db8a>\u001b[0m in \u001b[0;36m<cell line: 0>\u001b[0;34m()\u001b[0m\n\u001b[1;32m     73\u001b[0m \u001b[0;34m\u001b[0m\u001b[0m\n\u001b[1;32m     74\u001b[0m \u001b[0;31m# Run Prediction\u001b[0m\u001b[0;34m\u001b[0m\u001b[0;34m\u001b[0m\u001b[0m\n\u001b[0;32m---> 75\u001b[0;31m \u001b[0mresult\u001b[0m \u001b[0;34m=\u001b[0m \u001b[0mpredict_assessment\u001b[0m\u001b[0;34m(\u001b[0m\u001b[0mstudent_input\u001b[0m\u001b[0;34m)\u001b[0m\u001b[0;34m\u001b[0m\u001b[0;34m\u001b[0m\u001b[0m\n\u001b[0m\u001b[1;32m     76\u001b[0m \u001b[0mprint\u001b[0m\u001b[0;34m(\u001b[0m\u001b[0mresult\u001b[0m\u001b[0;34m)\u001b[0m\u001b[0;34m\u001b[0m\u001b[0;34m\u001b[0m\u001b[0m\n",
            "\u001b[0;32m<ipython-input-6-0d548a26db8a>\u001b[0m in \u001b[0;36mpredict_assessment\u001b[0;34m(student_data)\u001b[0m\n\u001b[1;32m     37\u001b[0m \u001b[0;34m\u001b[0m\u001b[0m\n\u001b[1;32m     38\u001b[0m     \u001b[0;31m# Predict the assessment score\u001b[0m\u001b[0;34m\u001b[0m\u001b[0;34m\u001b[0m\u001b[0m\n\u001b[0;32m---> 39\u001b[0;31m     \u001b[0mpredicted_score\u001b[0m \u001b[0;34m=\u001b[0m \u001b[0mmodel\u001b[0m\u001b[0;34m.\u001b[0m\u001b[0mpredict\u001b[0m\u001b[0;34m(\u001b[0m\u001b[0mdf\u001b[0m\u001b[0;34m)\u001b[0m\u001b[0;34m[\u001b[0m\u001b[0;36m0\u001b[0m\u001b[0;34m]\u001b[0m\u001b[0;34m\u001b[0m\u001b[0;34m\u001b[0m\u001b[0m\n\u001b[0m\u001b[1;32m     40\u001b[0m \u001b[0;34m\u001b[0m\u001b[0m\n\u001b[1;32m     41\u001b[0m     \u001b[0;31m# Promotion & Demotion Logic\u001b[0m\u001b[0;34m\u001b[0m\u001b[0;34m\u001b[0m\u001b[0m\n",
            "\u001b[0;32m/usr/local/lib/python3.11/dist-packages/sklearn/ensemble/_forest.py\u001b[0m in \u001b[0;36mpredict\u001b[0;34m(self, X)\u001b[0m\n\u001b[1;32m   1064\u001b[0m         \u001b[0mcheck_is_fitted\u001b[0m\u001b[0;34m(\u001b[0m\u001b[0mself\u001b[0m\u001b[0;34m)\u001b[0m\u001b[0;34m\u001b[0m\u001b[0;34m\u001b[0m\u001b[0m\n\u001b[1;32m   1065\u001b[0m         \u001b[0;31m# Check data\u001b[0m\u001b[0;34m\u001b[0m\u001b[0;34m\u001b[0m\u001b[0m\n\u001b[0;32m-> 1066\u001b[0;31m         \u001b[0mX\u001b[0m \u001b[0;34m=\u001b[0m \u001b[0mself\u001b[0m\u001b[0;34m.\u001b[0m\u001b[0m_validate_X_predict\u001b[0m\u001b[0;34m(\u001b[0m\u001b[0mX\u001b[0m\u001b[0;34m)\u001b[0m\u001b[0;34m\u001b[0m\u001b[0;34m\u001b[0m\u001b[0m\n\u001b[0m\u001b[1;32m   1067\u001b[0m \u001b[0;34m\u001b[0m\u001b[0m\n\u001b[1;32m   1068\u001b[0m         \u001b[0;31m# Assign chunk of trees to jobs\u001b[0m\u001b[0;34m\u001b[0m\u001b[0;34m\u001b[0m\u001b[0m\n",
            "\u001b[0;32m/usr/local/lib/python3.11/dist-packages/sklearn/ensemble/_forest.py\u001b[0m in \u001b[0;36m_validate_X_predict\u001b[0;34m(self, X)\u001b[0m\n\u001b[1;32m    636\u001b[0m             \u001b[0mensure_all_finite\u001b[0m \u001b[0;34m=\u001b[0m \u001b[0;32mTrue\u001b[0m\u001b[0;34m\u001b[0m\u001b[0;34m\u001b[0m\u001b[0m\n\u001b[1;32m    637\u001b[0m \u001b[0;34m\u001b[0m\u001b[0m\n\u001b[0;32m--> 638\u001b[0;31m         X = validate_data(\n\u001b[0m\u001b[1;32m    639\u001b[0m             \u001b[0mself\u001b[0m\u001b[0;34m,\u001b[0m\u001b[0;34m\u001b[0m\u001b[0;34m\u001b[0m\u001b[0m\n\u001b[1;32m    640\u001b[0m             \u001b[0mX\u001b[0m\u001b[0;34m,\u001b[0m\u001b[0;34m\u001b[0m\u001b[0;34m\u001b[0m\u001b[0m\n",
            "\u001b[0;32m/usr/local/lib/python3.11/dist-packages/sklearn/utils/validation.py\u001b[0m in \u001b[0;36mvalidate_data\u001b[0;34m(_estimator, X, y, reset, validate_separately, skip_check_array, **check_params)\u001b[0m\n\u001b[1;32m   2917\u001b[0m         \u001b[0mvalidated\u001b[0m\u001b[0;34m.\u001b[0m\u001b[0;34m\u001b[0m\u001b[0;34m\u001b[0m\u001b[0m\n\u001b[1;32m   2918\u001b[0m     \"\"\"\n\u001b[0;32m-> 2919\u001b[0;31m     \u001b[0m_check_feature_names\u001b[0m\u001b[0;34m(\u001b[0m\u001b[0m_estimator\u001b[0m\u001b[0;34m,\u001b[0m \u001b[0mX\u001b[0m\u001b[0;34m,\u001b[0m \u001b[0mreset\u001b[0m\u001b[0;34m=\u001b[0m\u001b[0mreset\u001b[0m\u001b[0;34m)\u001b[0m\u001b[0;34m\u001b[0m\u001b[0;34m\u001b[0m\u001b[0m\n\u001b[0m\u001b[1;32m   2920\u001b[0m     \u001b[0mtags\u001b[0m \u001b[0;34m=\u001b[0m \u001b[0mget_tags\u001b[0m\u001b[0;34m(\u001b[0m\u001b[0m_estimator\u001b[0m\u001b[0;34m)\u001b[0m\u001b[0;34m\u001b[0m\u001b[0;34m\u001b[0m\u001b[0m\n\u001b[1;32m   2921\u001b[0m     \u001b[0;32mif\u001b[0m \u001b[0my\u001b[0m \u001b[0;32mis\u001b[0m \u001b[0;32mNone\u001b[0m \u001b[0;32mand\u001b[0m \u001b[0mtags\u001b[0m\u001b[0;34m.\u001b[0m\u001b[0mtarget_tags\u001b[0m\u001b[0;34m.\u001b[0m\u001b[0mrequired\u001b[0m\u001b[0;34m:\u001b[0m\u001b[0;34m\u001b[0m\u001b[0;34m\u001b[0m\u001b[0m\n",
            "\u001b[0;32m/usr/local/lib/python3.11/dist-packages/sklearn/utils/validation.py\u001b[0m in \u001b[0;36m_check_feature_names\u001b[0;34m(estimator, X, reset)\u001b[0m\n\u001b[1;32m   2775\u001b[0m             \u001b[0mmessage\u001b[0m \u001b[0;34m+=\u001b[0m \u001b[0;34m\"Feature names must be in the same order as they were in fit.\\n\"\u001b[0m\u001b[0;34m\u001b[0m\u001b[0;34m\u001b[0m\u001b[0m\n\u001b[1;32m   2776\u001b[0m \u001b[0;34m\u001b[0m\u001b[0m\n\u001b[0;32m-> 2777\u001b[0;31m         \u001b[0;32mraise\u001b[0m \u001b[0mValueError\u001b[0m\u001b[0;34m(\u001b[0m\u001b[0mmessage\u001b[0m\u001b[0;34m)\u001b[0m\u001b[0;34m\u001b[0m\u001b[0;34m\u001b[0m\u001b[0m\n\u001b[0m\u001b[1;32m   2778\u001b[0m \u001b[0;34m\u001b[0m\u001b[0m\n\u001b[1;32m   2779\u001b[0m \u001b[0;34m\u001b[0m\u001b[0m\n",
            "\u001b[0;31mValueError\u001b[0m: The feature names should match those that were passed during fit.\nFeature names must be in the same order as they were in fit.\n"
          ]
        }
      ]
    },
    {
      "cell_type": "code",
      "source": [],
      "metadata": {
        "id": "EVIy_q5zfGhg"
      },
      "execution_count": null,
      "outputs": []
    }
  ]
}